{
 "cells": [
  {
   "cell_type": "code",
   "execution_count": 1,
   "metadata": {},
   "outputs": [],
   "source": [
    "import torchvision.models\n",
    "import torch\n",
    "import tensorrt as trt\n",
    "from torch2trt import torch2trt"
   ]
  },
  {
   "cell_type": "code",
   "execution_count": 2,
   "metadata": {},
   "outputs": [],
   "source": [
    "model = torchvision.models.squeezenet1_1(pretrained=True).cuda().eval().half()\n",
    "\n",
    "input = torch.ones((1, 3, 224, 224)).cuda().half()\n",
    "\n",
    "model_trt = torch2trt(model, [input], fp16_mode=True)"
   ]
  },
  {
   "cell_type": "code",
   "execution_count": 6,
   "metadata": {},
   "outputs": [
    {
     "name": "stdout",
     "output_type": "stream",
     "text": [
      "tensor([1.1484, 0.7612, 0.7847, 0.3052, 0.3586, 2.0605, 0.0000, 0.7583, 0.0067,\n",
      "        1.8486], device='cuda:0', dtype=torch.float16, grad_fn=<SliceBackward>)\n",
      "0.013431086540222167\n"
     ]
    }
   ],
   "source": [
    "import time\n",
    "input = input.half()\n",
    "\n",
    "model = model.half()\n",
    "output = model(input)\n",
    "print(output.flatten()[0:10])\n",
    "\n",
    "t0 = time.time()\n",
    "with torch.no_grad():\n",
    "    for i in range(50):\n",
    "        output = model(input)\n",
    "        #output = model_trt(input)\n",
    "t1 = time.time()\n",
    "\n",
    "print((t1 - t0) / 50.0)"
   ]
  },
  {
   "cell_type": "code",
   "execution_count": 11,
   "metadata": {},
   "outputs": [
    {
     "name": "stdout",
     "output_type": "stream",
     "text": [
      "tensor([1.3467, 0.7876, 0.5308, 0.4924, 1.0488, 0.8022, 0.2668, 3.1426, 0.8687,\n",
      "        3.0195], device='cuda:0', dtype=torch.float16)\n",
      "0.0047100019454956055\n"
     ]
    }
   ],
   "source": [
    "import time\n",
    "input = input.float()\n",
    "output = model_trt(input)\n",
    "print(output.flatten()[0:10])\n",
    "\n",
    "t0 = time.time()\n",
    "with torch.no_grad():\n",
    "    for i in range(50):\n",
    "        output = model_trt(input)\n",
    "t1 = time.time()\n",
    "\n",
    "print((t1 - t0) / 50.0)"
   ]
  }
 ],
 "metadata": {
  "kernelspec": {
   "display_name": "Python 3",
   "language": "python",
   "name": "python3"
  },
  "language_info": {
   "codemirror_mode": {
    "name": "ipython",
    "version": 3
   },
   "file_extension": ".py",
   "mimetype": "text/x-python",
   "name": "python",
   "nbconvert_exporter": "python",
   "pygments_lexer": "ipython3",
   "version": "3.6.7"
  }
 },
 "nbformat": 4,
 "nbformat_minor": 2
}
