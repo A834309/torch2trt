{
 "cells": [
  {
   "cell_type": "code",
   "execution_count": null,
   "metadata": {},
   "outputs": [],
   "source": [
    "import torchvision.models\n",
    "import torch\n",
    "import tensorrt as trt\n",
    "from torch2trt import torch2trt"
   ]
  },
  {
   "cell_type": "code",
   "execution_count": null,
   "metadata": {},
   "outputs": [],
   "source": [
    "model = torchvision.models.resnet18(pretrained=True).cuda().eval()"
   ]
  },
  {
   "cell_type": "code",
   "execution_count": null,
   "metadata": {},
   "outputs": [],
   "source": [
    "input = torch.ones((1, 3, 224, 224)).cuda()\n",
    "\n",
    "model_trt = torch2trt(model, [input], fp16_mode=True)"
   ]
  },
  {
   "cell_type": "code",
   "execution_count": null,
   "metadata": {},
   "outputs": [],
   "source": [
    "import time\n",
    "input = input.half()\n",
    "\n",
    "model = model.half()\n",
    "output = model(input)\n",
    "print(output.flatten()[0:10])\n",
    "\n",
    "t0 = time.time()\n",
    "with torch.no_grad():\n",
    "    for i in range(50):\n",
    "        output = model(input)\n",
    "        #output = model_trt(input)\n",
    "t1 = time.time()\n",
    "\n",
    "print((t1 - t0) / 50.0)"
   ]
  },
  {
   "cell_type": "code",
   "execution_count": null,
   "metadata": {},
   "outputs": [],
   "source": [
    "import time\n",
    "input = input.float()\n",
    "output = model_trt(input)\n",
    "print(output.flatten()[0:10])\n",
    "\n",
    "t0 = time.time()\n",
    "with torch.no_grad():\n",
    "    for i in range(50):\n",
    "        output = model_trt(input)\n",
    "t1 = time.time()\n",
    "\n",
    "print((t1 - t0) / 50.0)"
   ]
  }
 ],
 "metadata": {
  "kernelspec": {
   "display_name": "Python 3",
   "language": "python",
   "name": "python3"
  },
  "language_info": {
   "codemirror_mode": {
    "name": "ipython",
    "version": 3
   },
   "file_extension": ".py",
   "mimetype": "text/x-python",
   "name": "python",
   "nbconvert_exporter": "python",
   "pygments_lexer": "ipython3",
   "version": "3.6.7"
  }
 },
 "nbformat": 4,
 "nbformat_minor": 2
}
